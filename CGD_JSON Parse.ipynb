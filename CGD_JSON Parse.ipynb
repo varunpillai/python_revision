{
 "cells": [
  {
   "cell_type": "code",
   "execution_count": 9,
   "metadata": {
    "collapsed": false
   },
   "outputs": [],
   "source": [
    "# Parse Non-Standard JSON with Single Quotes\n",
    "import json\n",
    "from collections import OrderedDict\n",
    "from decimal import Decimal"
   ]
  },
  {
   "cell_type": "code",
   "execution_count": 10,
   "metadata": {
    "collapsed": false
   },
   "outputs": [
    {
     "name": "stdout",
     "output_type": "stream",
     "text": [
      "2017-06-22\n",
      "26893\n",
      "[{'segmentType': None, 'segmentCode': None, 'state': 'Florida', 'poolCode': None, 'code': None, 'L2key': '2011_NEW_State_House_District', 'geoId': '12114', 'type': 'state house', 'L2DistrictId': '114', 'name': '114', 'id': 1012, 'stateCode': 'fl', 'selected': True}]\n",
      "{'id': 522, 'email': 'yellis@stoneridgegroup.com', 'first_name': 'Nathanael', 'last_name': 'Yellis', 'profile': {'organization': 'SRG'}, 'verified': True, 'complete': True, 'campaign_count': 23, 'number_of_campaigns_in_draft': 14, 'number_of_campaigns_stopped': 0, 'number_of_campaigns_in_flight': 0, 'number_of_campaigns_booked': 1, 'number_of_campaigns_archived': 0, 'number_of_campaigns_cancelled': 0, 'number_of_campaigns_completed': 8}\n"
     ]
    }
   ],
   "source": [
    "def default(obj):\n",
    "    if isinstance(obj, Decimal):\n",
    "        return str(obj)\n",
    "    raise TypeError\n",
    "    \n",
    "with open('data.txt') as data_file:\n",
    "        data = json.loads(json.dumps(eval(data_file.read()),default=default))\n",
    "print(data['end_date'])\n",
    "print(data['cr_id'])\n",
    "print(data['target']['districts'])\n",
    "print(data['created_by'])"
   ]
  },
  {
   "cell_type": "code",
   "execution_count": null,
   "metadata": {
    "collapsed": true
   },
   "outputs": [],
   "source": []
  }
 ],
 "metadata": {
  "kernelspec": {
   "display_name": "Python 3",
   "language": "python",
   "name": "python3"
  },
  "language_info": {
   "codemirror_mode": {
    "name": "ipython",
    "version": 3
   },
   "file_extension": ".py",
   "mimetype": "text/x-python",
   "name": "python",
   "nbconvert_exporter": "python",
   "pygments_lexer": "ipython3",
   "version": "3.6.0"
  }
 },
 "nbformat": 4,
 "nbformat_minor": 2
}
